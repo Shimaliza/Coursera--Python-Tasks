{
  "nbformat": 4,
  "nbformat_minor": 0,
  "metadata": {
    "colab": {
      "provenance": [],
      "authorship_tag": "ABX9TyNKLCixmbyKHNCVX5LsdBKJ",
      "include_colab_link": true
    },
    "kernelspec": {
      "name": "python3",
      "display_name": "Python 3"
    },
    "language_info": {
      "name": "python"
    }
  },
  "cells": [
    {
      "cell_type": "markdown",
      "metadata": {
        "id": "view-in-github",
        "colab_type": "text"
      },
      "source": [
        "<a href=\"https://colab.research.google.com/github/Shimaliza/Coursera--Python-Tasks/blob/main/PY0101EN_5_1_Numpy1D.ipynb\" target=\"_parent\"><img src=\"https://colab.research.google.com/assets/colab-badge.svg\" alt=\"Open In Colab\"/></a>"
      ]
    },
    {
      "cell_type": "markdown",
      "source": [
        "1D Numpy in Python"
      ],
      "metadata": {
        "id": "E2LuSKd1bywK"
      }
    },
    {
      "cell_type": "code",
      "source": [
        "# import numpy library\n",
        "\n",
        "import numpy as np "
      ],
      "metadata": {
        "id": "iePdpj88cPA3"
      },
      "execution_count": 1,
      "outputs": []
    },
    {
      "cell_type": "code",
      "source": [
        "# Create a python list\n",
        "\n",
        "a = [\"0\", 1, \"two\", \"3\", 4]"
      ],
      "metadata": {
        "id": "cl-QGTHwbzNj"
      },
      "execution_count": 2,
      "outputs": []
    },
    {
      "cell_type": "code",
      "source": [
        "print(\"a[0]:\", a[0])\n",
        "print(\"a[1]:\", a[1])\n",
        "print(\"a[2]:\", a[2])\n",
        "print(\"a[3]:\", a[3])\n",
        "print(\"a[4]:\", a[4])"
      ],
      "metadata": {
        "colab": {
          "base_uri": "https://localhost:8080/"
        },
        "id": "cZ9THwGcb-y0",
        "outputId": "a569d4c0-2f59-48ad-f997-8f61341feb67"
      },
      "execution_count": 3,
      "outputs": [
        {
          "output_type": "stream",
          "name": "stdout",
          "text": [
            "a[0]: 0\n",
            "a[1]: 1\n",
            "a[2]: two\n",
            "a[3]: 3\n",
            "a[4]: 4\n"
          ]
        }
      ]
    },
    {
      "cell_type": "code",
      "source": [
        "# Create a numpy array\n",
        "\n",
        "a = np.array([0, 1, 2, 3, 4])\n",
        "a"
      ],
      "metadata": {
        "colab": {
          "base_uri": "https://localhost:8080/"
        },
        "id": "yFmM3LMab--8",
        "outputId": "4c63f993-8af1-459b-f145-c55138b92b43"
      },
      "execution_count": 4,
      "outputs": [
        {
          "output_type": "execute_result",
          "data": {
            "text/plain": [
              "array([0, 1, 2, 3, 4])"
            ]
          },
          "metadata": {},
          "execution_count": 4
        }
      ]
    },
    {
      "cell_type": "code",
      "source": [
        "# Print each element\n",
        "\n",
        "print(\"a[0]:\", a[0])\n",
        "print(\"a[1]:\", a[1])\n",
        "print(\"a[2]:\", a[2])\n",
        "print(\"a[3]:\", a[3])\n",
        "print(\"a[4]:\", a[4])"
      ],
      "metadata": {
        "colab": {
          "base_uri": "https://localhost:8080/"
        },
        "id": "9pfKqj2Mb_Az",
        "outputId": "f51d7183-2a6d-4038-db65-20d583d3f115"
      },
      "execution_count": 5,
      "outputs": [
        {
          "output_type": "stream",
          "name": "stdout",
          "text": [
            "a[0]: 0\n",
            "a[1]: 1\n",
            "a[2]: 2\n",
            "a[3]: 3\n",
            "a[4]: 4\n"
          ]
        }
      ]
    },
    {
      "cell_type": "code",
      "source": [
        "print(np.__version__)"
      ],
      "metadata": {
        "colab": {
          "base_uri": "https://localhost:8080/"
        },
        "id": "8x7-WMcQb_DM",
        "outputId": "4e6812e0-c29a-4a39-8d4d-f35bfa08142c"
      },
      "execution_count": 6,
      "outputs": [
        {
          "output_type": "stream",
          "name": "stdout",
          "text": [
            "1.22.4\n"
          ]
        }
      ]
    },
    {
      "cell_type": "code",
      "source": [
        "# Check the type of the array\n",
        "\n",
        "type(a)"
      ],
      "metadata": {
        "colab": {
          "base_uri": "https://localhost:8080/"
        },
        "id": "Z4BIiK0Zb_Ff",
        "outputId": "32ccb02f-e88b-407c-84fb-8e48ffaccfb5"
      },
      "execution_count": 7,
      "outputs": [
        {
          "output_type": "execute_result",
          "data": {
            "text/plain": [
              "numpy.ndarray"
            ]
          },
          "metadata": {},
          "execution_count": 7
        }
      ]
    },
    {
      "cell_type": "code",
      "source": [
        "# Check the type of the values stored in numpy array\n",
        "\n",
        "a.dtype"
      ],
      "metadata": {
        "colab": {
          "base_uri": "https://localhost:8080/"
        },
        "id": "r20kp-Lgb_IT",
        "outputId": "ca9f4895-a944-4af8-e022-df7eeecf27e2"
      },
      "execution_count": 8,
      "outputs": [
        {
          "output_type": "execute_result",
          "data": {
            "text/plain": [
              "dtype('int64')"
            ]
          },
          "metadata": {},
          "execution_count": 8
        }
      ]
    },
    {
      "cell_type": "code",
      "source": [
        "b = np.array([3.1, 11.02, 6.2, 213.2, 5.2])\n",
        "\n",
        "type(b)"
      ],
      "metadata": {
        "colab": {
          "base_uri": "https://localhost:8080/"
        },
        "id": "AUo8YCHcb_K3",
        "outputId": "269abcf7-d2e3-4413-8624-67f30adc5ce5"
      },
      "execution_count": 11,
      "outputs": [
        {
          "output_type": "execute_result",
          "data": {
            "text/plain": [
              "numpy.ndarray"
            ]
          },
          "metadata": {},
          "execution_count": 11
        }
      ]
    },
    {
      "cell_type": "code",
      "source": [
        "b.dtype"
      ],
      "metadata": {
        "colab": {
          "base_uri": "https://localhost:8080/"
        },
        "id": "QDTh86tnb_NQ",
        "outputId": "2d35ba89-70f9-4d8c-8ce6-b08b79368ba4"
      },
      "execution_count": 12,
      "outputs": [
        {
          "output_type": "execute_result",
          "data": {
            "text/plain": [
              "dtype('float64')"
            ]
          },
          "metadata": {},
          "execution_count": 12
        }
      ]
    },
    {
      "cell_type": "markdown",
      "source": [
        "Assign value"
      ],
      "metadata": {
        "id": "Jtx1b7DGd1eA"
      }
    },
    {
      "cell_type": "code",
      "source": [
        "# Create numpy array\n",
        "\n",
        "c = np.array([20, 1, 2, 3, 4])\n",
        "c"
      ],
      "metadata": {
        "colab": {
          "base_uri": "https://localhost:8080/"
        },
        "id": "cGbfewXrb_Px",
        "outputId": "fdb625a1-705a-4692-b0be-b291580a3634"
      },
      "execution_count": 13,
      "outputs": [
        {
          "output_type": "execute_result",
          "data": {
            "text/plain": [
              "array([20,  1,  2,  3,  4])"
            ]
          },
          "metadata": {},
          "execution_count": 13
        }
      ]
    },
    {
      "cell_type": "code",
      "source": [
        "# Assign the first element to 100\n",
        "\n",
        "c[0] = 100\n",
        "c"
      ],
      "metadata": {
        "colab": {
          "base_uri": "https://localhost:8080/"
        },
        "id": "khhFRMIXd29w",
        "outputId": "426e8120-fa61-41b3-e8d4-609d7c092218"
      },
      "execution_count": 14,
      "outputs": [
        {
          "output_type": "execute_result",
          "data": {
            "text/plain": [
              "array([100,   1,   2,   3,   4])"
            ]
          },
          "metadata": {},
          "execution_count": 14
        }
      ]
    },
    {
      "cell_type": "code",
      "source": [
        "# Assign the 5th element to 0\n",
        "\n",
        "c[4] = 0\n",
        "c"
      ],
      "metadata": {
        "colab": {
          "base_uri": "https://localhost:8080/"
        },
        "id": "7bMy5yPld3A1",
        "outputId": "2cf5f876-b893-40f2-db0c-d721b0f7cd5b"
      },
      "execution_count": 15,
      "outputs": [
        {
          "output_type": "execute_result",
          "data": {
            "text/plain": [
              "array([100,   1,   2,   3,   0])"
            ]
          },
          "metadata": {},
          "execution_count": 15
        }
      ]
    },
    {
      "cell_type": "markdown",
      "source": [
        "Try it yourself\n",
        "Assign the value 20 for the second element in the given array."
      ],
      "metadata": {
        "id": "r-M2tq3ieJAm"
      }
    },
    {
      "cell_type": "code",
      "source": [
        "a = np.array([10, 2, 30, 40,50])\n",
        "a[1]=20\n",
        "a"
      ],
      "metadata": {
        "colab": {
          "base_uri": "https://localhost:8080/"
        },
        "id": "yze0bhIQb_SO",
        "outputId": "fa6317f1-1e4a-4f81-fab0-a4bdd389c934"
      },
      "execution_count": 16,
      "outputs": [
        {
          "output_type": "execute_result",
          "data": {
            "text/plain": [
              "array([10, 20, 30, 40, 50])"
            ]
          },
          "metadata": {},
          "execution_count": 16
        }
      ]
    },
    {
      "cell_type": "markdown",
      "source": [
        "Slicing\n",
        "\n"
      ],
      "metadata": {
        "id": "4lXrYY5neoRr"
      }
    },
    {
      "cell_type": "code",
      "source": [
        "# Slicing the numpy array\n",
        "\n",
        "d = c[1:4]\n",
        "d"
      ],
      "metadata": {
        "colab": {
          "base_uri": "https://localhost:8080/"
        },
        "id": "jKr1f4OneKXG",
        "outputId": "d4b09d1d-ba55-45c7-ac16-bd264ae36e2b"
      },
      "execution_count": 17,
      "outputs": [
        {
          "output_type": "execute_result",
          "data": {
            "text/plain": [
              "array([1, 2, 3])"
            ]
          },
          "metadata": {},
          "execution_count": 17
        }
      ]
    },
    {
      "cell_type": "code",
      "source": [
        "# Set the fourth element and fifth element to 300 and 400\n",
        "\n",
        "c[3:5] = 300, 400\n",
        "c"
      ],
      "metadata": {
        "colab": {
          "base_uri": "https://localhost:8080/"
        },
        "id": "CHalR-YVeKak",
        "outputId": "6860a343-45a2-4b92-9884-189d4f8611be"
      },
      "execution_count": 18,
      "outputs": [
        {
          "output_type": "execute_result",
          "data": {
            "text/plain": [
              "array([100,   1,   2, 300, 400])"
            ]
          },
          "metadata": {},
          "execution_count": 18
        }
      ]
    },
    {
      "cell_type": "code",
      "source": [
        "arr = np.array([1, 2, 3, 4, 5, 6, 7])\n",
        "\n",
        "print(arr[1:5:2])"
      ],
      "metadata": {
        "colab": {
          "base_uri": "https://localhost:8080/"
        },
        "id": "tE0dcJZQb_WD",
        "outputId": "a26e326c-a240-45a6-883c-22bb9d4cf297"
      },
      "execution_count": 19,
      "outputs": [
        {
          "output_type": "stream",
          "name": "stdout",
          "text": [
            "[2 4]\n"
          ]
        }
      ]
    },
    {
      "cell_type": "code",
      "source": [
        "print(arr[:4])"
      ],
      "metadata": {
        "colab": {
          "base_uri": "https://localhost:8080/"
        },
        "id": "GArLsbH_fJlR",
        "outputId": "c51a094d-6d15-420f-a526-915b78e0693f"
      },
      "execution_count": 20,
      "outputs": [
        {
          "output_type": "stream",
          "name": "stdout",
          "text": [
            "[1 2 3 4]\n"
          ]
        }
      ]
    },
    {
      "cell_type": "code",
      "source": [
        "print(arr[4:])"
      ],
      "metadata": {
        "colab": {
          "base_uri": "https://localhost:8080/"
        },
        "id": "ztEICPgDfJrN",
        "outputId": "f51d0fa6-0fc2-4235-be2a-acc3c458aa5a"
      },
      "execution_count": 21,
      "outputs": [
        {
          "output_type": "stream",
          "name": "stdout",
          "text": [
            "[5 6 7]\n"
          ]
        }
      ]
    },
    {
      "cell_type": "code",
      "source": [
        "print(arr[1:5:])"
      ],
      "metadata": {
        "colab": {
          "base_uri": "https://localhost:8080/"
        },
        "id": "zbbOC9hBfJwv",
        "outputId": "d8fb1785-ecdf-49f4-fdf1-5d6080f5ea8c"
      },
      "execution_count": 24,
      "outputs": [
        {
          "output_type": "stream",
          "name": "stdout",
          "text": [
            "[2 3 4 5]\n"
          ]
        }
      ]
    },
    {
      "cell_type": "markdown",
      "source": [
        "Try it yourself\n",
        "\n",
        "Print the even elements in the given array."
      ],
      "metadata": {
        "id": "cz5Nvx5ef2Nf"
      }
    },
    {
      "cell_type": "code",
      "source": [
        "arr = np.array([1, 2, 3, 4, 5, 6, 7, 8])\n",
        "arr[1:8:2]\n",
        "\n"
      ],
      "metadata": {
        "colab": {
          "base_uri": "https://localhost:8080/"
        },
        "id": "2SQbssz7fJ1r",
        "outputId": "3f70f5bd-e433-4787-d01f-8b22e9d660d7"
      },
      "execution_count": 35,
      "outputs": [
        {
          "output_type": "execute_result",
          "data": {
            "text/plain": [
              "array([1, 3, 5, 7])"
            ]
          },
          "metadata": {},
          "execution_count": 35
        }
      ]
    },
    {
      "cell_type": "markdown",
      "source": [
        "Assign Value with List\n",
        "\n"
      ],
      "metadata": {
        "id": "Py37vGBShraw"
      }
    },
    {
      "cell_type": "code",
      "source": [
        "# Create the index list\n",
        "\n",
        "select = [0, 2, 3, 4]\n",
        "select"
      ],
      "metadata": {
        "colab": {
          "base_uri": "https://localhost:8080/"
        },
        "id": "5jL3bYE2f4Fj",
        "outputId": "e0eb7c63-7098-4042-e13c-ca48ed0e0211"
      },
      "execution_count": 36,
      "outputs": [
        {
          "output_type": "execute_result",
          "data": {
            "text/plain": [
              "[0, 2, 3, 4]"
            ]
          },
          "metadata": {},
          "execution_count": 36
        }
      ]
    },
    {
      "cell_type": "code",
      "source": [
        "# Use List to select elements\n",
        "\n",
        "d = c[select]\n",
        "d"
      ],
      "metadata": {
        "colab": {
          "base_uri": "https://localhost:8080/"
        },
        "id": "2iQF31BRf4Rg",
        "outputId": "813c3217-5ed0-40b9-f197-65f388433e68"
      },
      "execution_count": 37,
      "outputs": [
        {
          "output_type": "execute_result",
          "data": {
            "text/plain": [
              "array([100,   2, 300, 400])"
            ]
          },
          "metadata": {},
          "execution_count": 37
        }
      ]
    },
    {
      "cell_type": "code",
      "source": [
        "c[select] = 100000\n",
        "c"
      ],
      "metadata": {
        "colab": {
          "base_uri": "https://localhost:8080/"
        },
        "id": "qo6tAILff4eR",
        "outputId": "f924b2fb-096a-4ab5-f956-bebc9c48c8bd"
      },
      "execution_count": 38,
      "outputs": [
        {
          "output_type": "execute_result",
          "data": {
            "text/plain": [
              "array([100000,      1, 100000, 100000, 100000])"
            ]
          },
          "metadata": {},
          "execution_count": 38
        }
      ]
    },
    {
      "cell_type": "markdown",
      "source": [
        "Other Attributes\n",
        "\n"
      ],
      "metadata": {
        "id": "EQAz1o9uivqP"
      }
    },
    {
      "cell_type": "code",
      "source": [
        "# Create a numpy array\n",
        "\n",
        "a = np.array([0, 1, 2, 3, 4])\n",
        "a"
      ],
      "metadata": {
        "colab": {
          "base_uri": "https://localhost:8080/"
        },
        "id": "WuFljHyGfJ4V",
        "outputId": "e5ffd5b9-f92d-418d-ee21-1721abc2bd8c"
      },
      "execution_count": 39,
      "outputs": [
        {
          "output_type": "execute_result",
          "data": {
            "text/plain": [
              "array([0, 1, 2, 3, 4])"
            ]
          },
          "metadata": {},
          "execution_count": 39
        }
      ]
    },
    {
      "cell_type": "code",
      "source": [
        "# Get the size of numpy array\n",
        "\n",
        "a.size"
      ],
      "metadata": {
        "colab": {
          "base_uri": "https://localhost:8080/"
        },
        "id": "c8Z2_bNwis0U",
        "outputId": "62de6d96-3b66-4600-a9ea-37d95dfc72c0"
      },
      "execution_count": 40,
      "outputs": [
        {
          "output_type": "execute_result",
          "data": {
            "text/plain": [
              "5"
            ]
          },
          "metadata": {},
          "execution_count": 40
        }
      ]
    },
    {
      "cell_type": "code",
      "source": [
        "# Get the number of dimensions of numpy array\n",
        "\n",
        "a.ndim"
      ],
      "metadata": {
        "colab": {
          "base_uri": "https://localhost:8080/"
        },
        "id": "gHLNd5ysi3VH",
        "outputId": "59da382d-3cb4-47f2-a97a-24fa78d3b064"
      },
      "execution_count": 41,
      "outputs": [
        {
          "output_type": "execute_result",
          "data": {
            "text/plain": [
              "1"
            ]
          },
          "metadata": {},
          "execution_count": 41
        }
      ]
    },
    {
      "cell_type": "code",
      "source": [
        "# Get the shape/size of numpy array\n",
        "\n",
        "a.shape"
      ],
      "metadata": {
        "colab": {
          "base_uri": "https://localhost:8080/"
        },
        "id": "EnicDxGJi3XC",
        "outputId": "bc94a8d7-7aca-403f-fb26-2ee659d94ac9"
      },
      "execution_count": 42,
      "outputs": [
        {
          "output_type": "execute_result",
          "data": {
            "text/plain": [
              "(5,)"
            ]
          },
          "metadata": {},
          "execution_count": 42
        }
      ]
    },
    {
      "cell_type": "markdown",
      "source": [
        "Try it yourself\n",
        "\n",
        "Find the size ,dimension and shape for the given array b"
      ],
      "metadata": {
        "id": "TuBiDu3MjEj6"
      }
    },
    {
      "cell_type": "code",
      "source": [
        "b = np.array([10, 20, 30, 40, 50, 60, 70])\n",
        "b.size"
      ],
      "metadata": {
        "colab": {
          "base_uri": "https://localhost:8080/"
        },
        "id": "OLSm0cnNi3Ze",
        "outputId": "4345e340-daa2-4c2b-bf66-d7bb2ca26374"
      },
      "execution_count": 45,
      "outputs": [
        {
          "output_type": "execute_result",
          "data": {
            "text/plain": [
              "7"
            ]
          },
          "metadata": {},
          "execution_count": 45
        }
      ]
    },
    {
      "cell_type": "code",
      "source": [
        "b.ndim"
      ],
      "metadata": {
        "colab": {
          "base_uri": "https://localhost:8080/"
        },
        "id": "jJRDHttVi3cf",
        "outputId": "28357144-e6b9-440e-c97d-43fc796bebfb"
      },
      "execution_count": 47,
      "outputs": [
        {
          "output_type": "execute_result",
          "data": {
            "text/plain": [
              "1"
            ]
          },
          "metadata": {},
          "execution_count": 47
        }
      ]
    },
    {
      "cell_type": "code",
      "source": [
        "b.shape"
      ],
      "metadata": {
        "colab": {
          "base_uri": "https://localhost:8080/"
        },
        "id": "m1uIL2Vpi3fw",
        "outputId": "ff6500ec-7959-4bca-80d6-52dfb131cbad"
      },
      "execution_count": 48,
      "outputs": [
        {
          "output_type": "execute_result",
          "data": {
            "text/plain": [
              "(7,)"
            ]
          },
          "metadata": {},
          "execution_count": 48
        }
      ]
    },
    {
      "cell_type": "markdown",
      "source": [
        "Numpy Statistical Functions\n"
      ],
      "metadata": {
        "id": "ZUa2hvqvjipx"
      }
    },
    {
      "cell_type": "code",
      "source": [
        "# Create a numpy array\n",
        "\n",
        "a = np.array([1, -1, 1, -1])"
      ],
      "metadata": {
        "id": "43CBYT9iis3e"
      },
      "execution_count": 49,
      "outputs": []
    },
    {
      "cell_type": "code",
      "source": [
        "# Get the mean of numpy array\n",
        "\n",
        "mean = a.mean()\n",
        "mean"
      ],
      "metadata": {
        "colab": {
          "base_uri": "https://localhost:8080/"
        },
        "id": "hnuDg9WwjrCQ",
        "outputId": "0ffe87d8-c2e2-439b-943e-67e2f7c0bbf2"
      },
      "execution_count": 50,
      "outputs": [
        {
          "output_type": "execute_result",
          "data": {
            "text/plain": [
              "0.0"
            ]
          },
          "metadata": {},
          "execution_count": 50
        }
      ]
    },
    {
      "cell_type": "code",
      "source": [
        "# Get the standard deviation of numpy array\n",
        "\n",
        "standard_deviation=a.std()\n",
        "standard_deviation"
      ],
      "metadata": {
        "colab": {
          "base_uri": "https://localhost:8080/"
        },
        "id": "cPKHQHJrjrET",
        "outputId": "3dc256af-dda3-479d-9dfe-15402b582c34"
      },
      "execution_count": 51,
      "outputs": [
        {
          "output_type": "execute_result",
          "data": {
            "text/plain": [
              "1.0"
            ]
          },
          "metadata": {},
          "execution_count": 51
        }
      ]
    },
    {
      "cell_type": "code",
      "source": [
        "# Create a numpy array\n",
        "\n",
        "b = np.array([-1, 2, 3, 4, 5])\n",
        "b"
      ],
      "metadata": {
        "colab": {
          "base_uri": "https://localhost:8080/"
        },
        "id": "CMdvwA-3jy3l",
        "outputId": "e5df9bf4-3d7f-466a-e20d-5016402e4408"
      },
      "execution_count": 52,
      "outputs": [
        {
          "output_type": "execute_result",
          "data": {
            "text/plain": [
              "array([-1,  2,  3,  4,  5])"
            ]
          },
          "metadata": {},
          "execution_count": 52
        }
      ]
    },
    {
      "cell_type": "code",
      "source": [
        "# Get the biggest value in the numpy array\n",
        "\n",
        "max_b = b.max()\n",
        "max_b"
      ],
      "metadata": {
        "colab": {
          "base_uri": "https://localhost:8080/"
        },
        "id": "RijbymSGjy6E",
        "outputId": "ef5432ae-e77b-4b0e-af7e-eedc3a5adc3b"
      },
      "execution_count": 53,
      "outputs": [
        {
          "output_type": "execute_result",
          "data": {
            "text/plain": [
              "5"
            ]
          },
          "metadata": {},
          "execution_count": 53
        }
      ]
    },
    {
      "cell_type": "code",
      "source": [
        "# Get the smallest value in the numpy array\n",
        "\n",
        "min_b = b.min()\n",
        "min_b"
      ],
      "metadata": {
        "colab": {
          "base_uri": "https://localhost:8080/"
        },
        "id": "EL7hIfY9jy8q",
        "outputId": "3078f953-72c0-47a2-917a-14e28decac1a"
      },
      "execution_count": 54,
      "outputs": [
        {
          "output_type": "execute_result",
          "data": {
            "text/plain": [
              "-1"
            ]
          },
          "metadata": {},
          "execution_count": 54
        }
      ]
    },
    {
      "cell_type": "markdown",
      "source": [
        "Try it yourself\n",
        "\n",
        "Find the sum of maximum and minimum value in the given numpy array\n",
        "\n",
        "\n",
        "\n"
      ],
      "metadata": {
        "id": "K3wg2EKykQYC"
      }
    },
    {
      "cell_type": "code",
      "source": [
        "c = np.array([-10, 201, 43, 94, 502])\n",
        "Sum = (c.max() + c.min())\n",
        "Sum"
      ],
      "metadata": {
        "colab": {
          "base_uri": "https://localhost:8080/"
        },
        "id": "CNyhxen5kGVM",
        "outputId": "a790e480-11b4-451e-b333-e7c4987d1857"
      },
      "execution_count": 56,
      "outputs": [
        {
          "output_type": "execute_result",
          "data": {
            "text/plain": [
              "492"
            ]
          },
          "metadata": {},
          "execution_count": 56
        }
      ]
    },
    {
      "cell_type": "markdown",
      "source": [
        "Numpy Array Operations"
      ],
      "metadata": {
        "id": "7Ap5-hwklP4b"
      }
    },
    {
      "cell_type": "markdown",
      "source": [
        "Array Addition"
      ],
      "metadata": {
        "id": "z-wWELsRlUjN"
      }
    },
    {
      "cell_type": "code",
      "source": [
        "u = np.array([1, 0])\n",
        "u"
      ],
      "metadata": {
        "colab": {
          "base_uri": "https://localhost:8080/"
        },
        "id": "fvWQwEb-lVXv",
        "outputId": "09256e7e-7d69-4be1-d835-084ec6c04f0d"
      },
      "execution_count": 57,
      "outputs": [
        {
          "output_type": "execute_result",
          "data": {
            "text/plain": [
              "array([1, 0])"
            ]
          },
          "metadata": {},
          "execution_count": 57
        }
      ]
    },
    {
      "cell_type": "code",
      "source": [
        "v = np.array([0, 1])\n",
        "v"
      ],
      "metadata": {
        "colab": {
          "base_uri": "https://localhost:8080/"
        },
        "id": "UmP-YDmOlVaI",
        "outputId": "16b31809-7d28-4404-9634-2b90a270da24"
      },
      "execution_count": 58,
      "outputs": [
        {
          "output_type": "execute_result",
          "data": {
            "text/plain": [
              "array([0, 1])"
            ]
          },
          "metadata": {},
          "execution_count": 58
        }
      ]
    },
    {
      "cell_type": "code",
      "source": [
        "# Numpy Array Addition\n",
        "\n",
        "z = np.add(u, v)\n",
        "z"
      ],
      "metadata": {
        "colab": {
          "base_uri": "https://localhost:8080/"
        },
        "id": "ZQ-Kr3GelVdp",
        "outputId": "4a330e0a-f45e-4cb1-eac9-a8c5f1a5541e"
      },
      "execution_count": 59,
      "outputs": [
        {
          "output_type": "execute_result",
          "data": {
            "text/plain": [
              "array([1, 1])"
            ]
          },
          "metadata": {},
          "execution_count": 59
        }
      ]
    },
    {
      "cell_type": "markdown",
      "source": [
        "The operation is equivalent to vector addition:"
      ],
      "metadata": {
        "id": "oGMUQpsQl-cI"
      }
    },
    {
      "cell_type": "code",
      "source": [
        "# Plotting functions\n",
        "\n",
        "\n",
        "import time \n",
        "import sys\n",
        "import numpy as np \n",
        "\n",
        "import matplotlib.pyplot as plt\n",
        "%matplotlib inline  \n",
        "\n",
        "def Plotvec1(u, z, v):\n",
        "    \n",
        "    ax = plt.axes() # to generate the full window axes\n",
        "    ax.arrow(0, 0, *u, head_width=0.05, color='r', head_length=0.1)# Add an arrow to the  U Axes with arrow head width 0.05, color red and arrow head length 0.1\n",
        "    plt.text(*(u + 0.1), 'u')#Adds the text u to the Axes \n",
        "    \n",
        "    ax.arrow(0, 0, *v, head_width=0.05, color='b', head_length=0.1)# Add an arrow to the  v Axes with arrow head width 0.05, color red and arrow head length 0.1\n",
        "    plt.text(*(v + 0.1), 'v')#Adds the text v to the Axes \n",
        "    \n",
        "    ax.arrow(0, 0, *z, head_width=0.05, head_length=0.1)\n",
        "    plt.text(*(z + 0.1), 'z')#Adds the text z to the Axes \n",
        "    plt.ylim(-2, 2)#set the ylim to bottom(-2), top(2)\n",
        "    plt.xlim(-2, 2)#set the xlim to left(-2), right(2)\n"
      ],
      "metadata": {
        "id": "zIllFfQylVg1"
      },
      "execution_count": 60,
      "outputs": []
    },
    {
      "cell_type": "code",
      "source": [
        "# Plot numpy arrays\n",
        "\n",
        "Plotvec1(u, z, v)"
      ],
      "metadata": {
        "colab": {
          "base_uri": "https://localhost:8080/",
          "height": 269
        },
        "id": "244_w3p7mD7m",
        "outputId": "75123cb4-2542-4f61-8f25-2a3f51179ef2"
      },
      "execution_count": 61,
      "outputs": [
        {
          "output_type": "display_data",
          "data": {
            "text/plain": [
              "<Figure size 432x288 with 1 Axes>"
            ],
            "image/png": "[encoded data removed]"
          },
          "metadata": {
            "needs_background": "light"
          }
        }
      ]
    },
    {
      "cell_type": "markdown",
      "source": [
        "Try it yourself\n",
        "\n",
        "Perform addition operation on the given numpy array arr1 and arr2:"
      ],
      "metadata": {
        "id": "dari0xZfyiX4"
      }
    },
    {
      "cell_type": "code",
      "source": [
        "arr1 = np.array([10, 11, 12, 13, 14, 15])\n",
        "arr2 = np.array([20, 21, 22, 23, 24, 25])\n",
        "\n",
        "arr3 = np.add(arr1, arr2)\n",
        "arr3"
      ],
      "metadata": {
        "colab": {
          "base_uri": "https://localhost:8080/"
        },
        "id": "r8Ie6eOxmD-9",
        "outputId": "893e2696-a2be-4b8f-984a-e315c449b6ab"
      },
      "execution_count": 62,
      "outputs": [
        {
          "output_type": "execute_result",
          "data": {
            "text/plain": [
              "array([30, 32, 34, 36, 38, 40])"
            ]
          },
          "metadata": {},
          "execution_count": 62
        }
      ]
    },
    {
      "cell_type": "code",
      "source": [
        "a = np.array([10, 20, 30])\n",
        "a"
      ],
      "metadata": {
        "colab": {
          "base_uri": "https://localhost:8080/"
        },
        "id": "gUYcLS_ClVjs",
        "outputId": "e11dd603-c488-4643-e8dc-657937003912"
      },
      "execution_count": 63,
      "outputs": [
        {
          "output_type": "execute_result",
          "data": {
            "text/plain": [
              "array([10, 20, 30])"
            ]
          },
          "metadata": {},
          "execution_count": 63
        }
      ]
    },
    {
      "cell_type": "code",
      "source": [
        "b = np.array([5, 10, 15])\n",
        "b"
      ],
      "metadata": {
        "colab": {
          "base_uri": "https://localhost:8080/"
        },
        "id": "NoGUhGvWkGaV",
        "outputId": "d12e494a-be67-4ce7-9dfd-1d0821f47d38"
      },
      "execution_count": 64,
      "outputs": [
        {
          "output_type": "execute_result",
          "data": {
            "text/plain": [
              "array([ 5, 10, 15])"
            ]
          },
          "metadata": {},
          "execution_count": 64
        }
      ]
    },
    {
      "cell_type": "code",
      "source": [
        "c = np.subtract(a, b)\n",
        "\n",
        "print(c)"
      ],
      "metadata": {
        "colab": {
          "base_uri": "https://localhost:8080/"
        },
        "id": "zYMaFkwtzJI2",
        "outputId": "301bd0d8-4bf3-4e9b-b198-85d972ca0328"
      },
      "execution_count": 65,
      "outputs": [
        {
          "output_type": "stream",
          "name": "stdout",
          "text": [
            "[ 5 10 15]\n"
          ]
        }
      ]
    },
    {
      "cell_type": "markdown",
      "source": [
        "Try it yourself\n",
        "\n",
        "Perform subtraction operation on the given numpy array arr1 and arr2:"
      ],
      "metadata": {
        "id": "6yl3Z7YQ0DUk"
      }
    },
    {
      "cell_type": "code",
      "source": [
        "arr1 = np.array([10, 20, 30, 40, 50, 60])\n",
        "arr2 = np.array([20, 21, 22, 23, 24, 25])\n",
        "\n",
        "d = np.subtract(arr1,arr2)\n",
        "d"
      ],
      "metadata": {
        "colab": {
          "base_uri": "https://localhost:8080/"
        },
        "id": "oHtsK5ARzJL7",
        "outputId": "092a9f80-32c5-46db-c642-72afb74bfc1a"
      },
      "execution_count": 66,
      "outputs": [
        {
          "output_type": "execute_result",
          "data": {
            "text/plain": [
              "array([-10,  -1,   8,  17,  26,  35])"
            ]
          },
          "metadata": {},
          "execution_count": 66
        }
      ]
    },
    {
      "cell_type": "markdown",
      "source": [
        "Array Multiplication\n",
        "\n",
        "Consider the vector numpy array y:"
      ],
      "metadata": {
        "id": "shNTmxjy0t-5"
      }
    },
    {
      "cell_type": "code",
      "source": [
        "# Create a numpy array\n",
        "\n",
        "x = np.array([1, 2])\n",
        "x"
      ],
      "metadata": {
        "colab": {
          "base_uri": "https://localhost:8080/"
        },
        "id": "pYF8kq-Uz6Mb",
        "outputId": "0dbe63a2-e645-4bdc-804e-006699870b50"
      },
      "execution_count": 67,
      "outputs": [
        {
          "output_type": "execute_result",
          "data": {
            "text/plain": [
              "array([1, 2])"
            ]
          },
          "metadata": {},
          "execution_count": 67
        }
      ]
    },
    {
      "cell_type": "code",
      "source": [
        "# Create a numpy array\n",
        "\n",
        "y = np.array([2, 1])\n",
        "y"
      ],
      "metadata": {
        "colab": {
          "base_uri": "https://localhost:8080/"
        },
        "id": "uyNfwsrkz6O2",
        "outputId": "a143fdee-abd8-40d2-9c21-7eb32a43116e"
      },
      "execution_count": 68,
      "outputs": [
        {
          "output_type": "execute_result",
          "data": {
            "text/plain": [
              "array([2, 1])"
            ]
          },
          "metadata": {},
          "execution_count": 68
        }
      ]
    },
    {
      "cell_type": "code",
      "source": [
        "# Numpy Array Multiplication\n",
        "\n",
        "z = np.multiply(x, y)\n",
        "z"
      ],
      "metadata": {
        "colab": {
          "base_uri": "https://localhost:8080/"
        },
        "id": "z-22mI5Oz6Ru",
        "outputId": "6686e692-b1fe-4509-b0c9-a9e19d6ddf15"
      },
      "execution_count": 69,
      "outputs": [
        {
          "output_type": "execute_result",
          "data": {
            "text/plain": [
              "array([2, 2])"
            ]
          },
          "metadata": {},
          "execution_count": 69
        }
      ]
    },
    {
      "cell_type": "markdown",
      "source": [
        "Try it yourself\n",
        "Perform multiply operation on the given numpy array arr1 and arr2:"
      ],
      "metadata": {
        "id": "YGrkIcRu1Gvm"
      }
    },
    {
      "cell_type": "code",
      "source": [
        "arr1 = np.array([10, 20, 30, 40, 50, 60])\n",
        "arr2 = np.array([2, 1, 2, 3, 4, 5])\n",
        "\n",
        "arr3 = np.multiply(arr1,arr2)\n",
        "arr3"
      ],
      "metadata": {
        "colab": {
          "base_uri": "https://localhost:8080/"
        },
        "id": "NdIvYeLWjrHf",
        "outputId": "bff29cfa-e7a5-455c-de23-95213dc809c5"
      },
      "execution_count": 71,
      "outputs": [
        {
          "output_type": "execute_result",
          "data": {
            "text/plain": [
              "array([ 20,  20,  60, 120, 200, 300])"
            ]
          },
          "metadata": {},
          "execution_count": 71
        }
      ]
    },
    {
      "cell_type": "markdown",
      "source": [
        "Array Division\n",
        "\n",
        "Consider the vector numpy array a:"
      ],
      "metadata": {
        "id": "amE-OzAA1cde"
      }
    },
    {
      "cell_type": "code",
      "source": [
        "a = np.array([10, 20, 30])\n",
        "a"
      ],
      "metadata": {
        "colab": {
          "base_uri": "https://localhost:8080/"
        },
        "id": "hnqLcum11C2Q",
        "outputId": "3f174746-c360-4ac8-c909-98871de499af"
      },
      "execution_count": 72,
      "outputs": [
        {
          "output_type": "execute_result",
          "data": {
            "text/plain": [
              "array([10, 20, 30])"
            ]
          },
          "metadata": {},
          "execution_count": 72
        }
      ]
    },
    {
      "cell_type": "code",
      "source": [
        "b = np.array([2, 10, 5])\n",
        "b"
      ],
      "metadata": {
        "colab": {
          "base_uri": "https://localhost:8080/"
        },
        "id": "Ng-bPoeK1DDU",
        "outputId": "6552a2de-280f-425e-b9d3-26fc17a13280"
      },
      "execution_count": 73,
      "outputs": [
        {
          "output_type": "execute_result",
          "data": {
            "text/plain": [
              "array([ 2, 10,  5])"
            ]
          },
          "metadata": {},
          "execution_count": 73
        }
      ]
    },
    {
      "cell_type": "code",
      "source": [
        "c = np.divide(a, b)\n",
        "c"
      ],
      "metadata": {
        "colab": {
          "base_uri": "https://localhost:8080/"
        },
        "id": "c7FoW9751DP0",
        "outputId": "14a5592d-d6c0-4619-f23b-f2d2a9d95a81"
      },
      "execution_count": 74,
      "outputs": [
        {
          "output_type": "execute_result",
          "data": {
            "text/plain": [
              "array([5., 2., 6.])"
            ]
          },
          "metadata": {},
          "execution_count": 74
        }
      ]
    },
    {
      "cell_type": "markdown",
      "source": [
        "Try it yourself\n",
        "\n",
        "Perform division operation on the given numpy array arr1 and arr2:"
      ],
      "metadata": {
        "id": "OJLNIHEN1x5l"
      }
    },
    {
      "cell_type": "code",
      "source": [
        "arr1 = np.array([10, 20, 30, 40, 50, 60])\n",
        "arr2 = np.array([3, 5, 10, 8, 2, 33])\n",
        "arr3 = np.divide(arr1,arr2)\n",
        "arr3\n"
      ],
      "metadata": {
        "colab": {
          "base_uri": "https://localhost:8080/"
        },
        "id": "vrdiU5_ufJ65",
        "outputId": "b97608f1-3f2a-4b97-8365-4503e13860b6"
      },
      "execution_count": 78,
      "outputs": [
        {
          "output_type": "execute_result",
          "data": {
            "text/plain": [
              "array([ 3.33333333,  4.        ,  3.        ,  5.        , 25.        ,\n",
              "        1.81818182])"
            ]
          },
          "metadata": {},
          "execution_count": 78
        }
      ]
    },
    {
      "cell_type": "markdown",
      "source": [
        "Dot Product\n",
        "\n",
        "The dot product of the two numpy arrays u and v is given by:"
      ],
      "metadata": {
        "id": "Up_RP7hU2GiO"
      }
    },
    {
      "cell_type": "code",
      "source": [
        "X = np.array([1, 2])\n",
        "Y = np.array([3, 2])"
      ],
      "metadata": {
        "id": "ZVT2y3IH1pVk"
      },
      "execution_count": 79,
      "outputs": []
    },
    {
      "cell_type": "code",
      "source": [
        "# Calculate the dot product\n",
        "\n",
        "np.dot(X, Y)"
      ],
      "metadata": {
        "colab": {
          "base_uri": "https://localhost:8080/"
        },
        "id": "Si0afBvK1pYq",
        "outputId": "75ccae3e-0e1d-4f6d-ad30-0b4aeb599344"
      },
      "execution_count": 80,
      "outputs": [
        {
          "output_type": "execute_result",
          "data": {
            "text/plain": [
              "7"
            ]
          },
          "metadata": {},
          "execution_count": 80
        }
      ]
    },
    {
      "cell_type": "code",
      "source": [
        "#Elements of X\n",
        "print(X[0])\n",
        "print(X[1])"
      ],
      "metadata": {
        "colab": {
          "base_uri": "https://localhost:8080/"
        },
        "id": "0DC_mAxq1piE",
        "outputId": "b3d2f735-776d-4f4b-9535-5aed40085d8a"
      },
      "execution_count": 81,
      "outputs": [
        {
          "output_type": "stream",
          "name": "stdout",
          "text": [
            "1\n",
            "2\n"
          ]
        }
      ]
    },
    {
      "cell_type": "code",
      "source": [
        "#Elements of Y\n",
        "print(Y[0])\n",
        "print(Y[1])"
      ],
      "metadata": {
        "colab": {
          "base_uri": "https://localhost:8080/"
        },
        "id": "BP8pp9BQ1pkV",
        "outputId": "e47838d6-81f6-40ba-ab83-c62a306e1493"
      },
      "execution_count": 82,
      "outputs": [
        {
          "output_type": "stream",
          "name": "stdout",
          "text": [
            "3\n",
            "2\n"
          ]
        }
      ]
    },
    {
      "cell_type": "markdown",
      "source": [
        "Try it yourself\n",
        "\n",
        "Perform dot operation on the given numpy array ar1 and ar2:"
      ],
      "metadata": {
        "id": "ELu7ypNr2iqy"
      }
    },
    {
      "cell_type": "code",
      "source": [
        "arr1 = np.array([3, 5])\n",
        "arr2 = np.array([2, 4])"
      ],
      "metadata": {
        "id": "BzA06DkZ1pnN"
      },
      "execution_count": 83,
      "outputs": []
    },
    {
      "cell_type": "markdown",
      "source": [
        "Adding Constant to a Numpy Array\n",
        "Consider the following array:"
      ],
      "metadata": {
        "id": "uG2qlIHJ2tX6"
      }
    },
    {
      "cell_type": "code",
      "source": [
        "# Create a constant to numpy array\n",
        "\n",
        "u = np.array([1, 2, 3, -1]) \n",
        "u"
      ],
      "metadata": {
        "colab": {
          "base_uri": "https://localhost:8080/"
        },
        "id": "ZfgbmK4D2m72",
        "outputId": "0b90dc31-9f5d-4f0f-8de6-13d5cefbc667"
      },
      "execution_count": 84,
      "outputs": [
        {
          "output_type": "execute_result",
          "data": {
            "text/plain": [
              "array([ 1,  2,  3, -1])"
            ]
          },
          "metadata": {},
          "execution_count": 84
        }
      ]
    },
    {
      "cell_type": "code",
      "source": [
        "# Add the constant to array\n",
        "\n",
        "u + 1"
      ],
      "metadata": {
        "colab": {
          "base_uri": "https://localhost:8080/"
        },
        "id": "0HGPoUR-2m-z",
        "outputId": "f4bc4558-cbfb-4749-9b7e-ec02b74176cf"
      },
      "execution_count": 85,
      "outputs": [
        {
          "output_type": "execute_result",
          "data": {
            "text/plain": [
              "array([2, 3, 4, 0])"
            ]
          },
          "metadata": {},
          "execution_count": 85
        }
      ]
    },
    {
      "cell_type": "markdown",
      "source": [
        "Try it yourself\n",
        "\n",
        "Add Constant 5 to the given numpy array ar:"
      ],
      "metadata": {
        "id": "7Hc4EJUe2-bY"
      }
    },
    {
      "cell_type": "code",
      "source": [
        "arr = np.array([1, 2, 3, -1])\n",
        "arr + 5\n"
      ],
      "metadata": {
        "colab": {
          "base_uri": "https://localhost:8080/"
        },
        "id": "3t7hQ2WZ2nBW",
        "outputId": "6bbd144c-4fc2-4442-a43a-8530699ec2d9"
      },
      "execution_count": 88,
      "outputs": [
        {
          "output_type": "execute_result",
          "data": {
            "text/plain": [
              "array([6, 7, 8, 4])"
            ]
          },
          "metadata": {},
          "execution_count": 88
        }
      ]
    },
    {
      "cell_type": "markdown",
      "source": [
        "Mathematical Functions\n"
      ],
      "metadata": {
        "id": "qQ9mZgVa3S9z"
      }
    },
    {
      "cell_type": "code",
      "source": [
        "# The value of pi\n",
        "\n",
        "np.pi"
      ],
      "metadata": {
        "colab": {
          "base_uri": "https://localhost:8080/"
        },
        "id": "JSY6o8B03BrR",
        "outputId": "e55f3623-9958-4805-b6e8-d45abe219ae8"
      },
      "execution_count": 89,
      "outputs": [
        {
          "output_type": "execute_result",
          "data": {
            "text/plain": [
              "3.141592653589793"
            ]
          },
          "metadata": {},
          "execution_count": 89
        }
      ]
    },
    {
      "cell_type": "code",
      "source": [
        "# Create the numpy array in radians\n",
        "\n",
        "x = np.array([0, np.pi/2 , np.pi])\n",
        "x"
      ],
      "metadata": {
        "colab": {
          "base_uri": "https://localhost:8080/"
        },
        "id": "uOVTRF7y3BuD",
        "outputId": "2ae6b38b-3e1d-4b21-a622-b9797d10bf34"
      },
      "execution_count": 91,
      "outputs": [
        {
          "output_type": "execute_result",
          "data": {
            "text/plain": [
              "array([0.        , 1.57079633, 3.14159265])"
            ]
          },
          "metadata": {},
          "execution_count": 91
        }
      ]
    },
    {
      "cell_type": "code",
      "source": [
        "# Calculate the sin of each elements\n",
        "\n",
        "y = np.sin(x)\n",
        "y"
      ],
      "metadata": {
        "colab": {
          "base_uri": "https://localhost:8080/"
        },
        "id": "1Susn2lz3Bwu",
        "outputId": "5f903f3c-a8ab-4f53-8115-a0b55b7ead09"
      },
      "execution_count": 92,
      "outputs": [
        {
          "output_type": "execute_result",
          "data": {
            "text/plain": [
              "array([0.0000000e+00, 1.0000000e+00, 1.2246468e-16])"
            ]
          },
          "metadata": {},
          "execution_count": 92
        }
      ]
    },
    {
      "cell_type": "markdown",
      "source": [
        "Linspace\n",
        "\n"
      ],
      "metadata": {
        "id": "AFan9SxM3kuR"
      }
    },
    {
      "cell_type": "code",
      "source": [
        "# Makeup a numpy array within [-2, 2] and 5 elements\n",
        "\n",
        "np.linspace(-2, 2, num=5)"
      ],
      "metadata": {
        "colab": {
          "base_uri": "https://localhost:8080/"
        },
        "id": "8PXwN9EZ3B0p",
        "outputId": "985aac84-0cab-4103-8a6f-0b4b29404db1"
      },
      "execution_count": 93,
      "outputs": [
        {
          "output_type": "execute_result",
          "data": {
            "text/plain": [
              "array([-2., -1.,  0.,  1.,  2.])"
            ]
          },
          "metadata": {},
          "execution_count": 93
        }
      ]
    },
    {
      "cell_type": "code",
      "source": [
        "# Make a numpy array within [-2, 2] and 9 elements\n",
        "\n",
        "np.linspace(-2, 2, num=9)"
      ],
      "metadata": {
        "colab": {
          "base_uri": "https://localhost:8080/"
        },
        "id": "WVToOXIG3ncg",
        "outputId": "6603cab0-f446-4874-8b18-55b0b06a4930"
      },
      "execution_count": 94,
      "outputs": [
        {
          "output_type": "execute_result",
          "data": {
            "text/plain": [
              "array([-2. , -1.5, -1. , -0.5,  0. ,  0.5,  1. ,  1.5,  2. ])"
            ]
          },
          "metadata": {},
          "execution_count": 94
        }
      ]
    },
    {
      "cell_type": "code",
      "source": [
        "# Make a numpy array within [0, 2π] and 100 elements \n",
        "\n",
        "x = np.linspace(0, 2*np.pi, num=100)"
      ],
      "metadata": {
        "id": "uYeFdyuf3nfG"
      },
      "execution_count": 95,
      "outputs": []
    },
    {
      "cell_type": "code",
      "source": [
        "# Calculate the sine of x list\n",
        "\n",
        "y = np.sin(x)"
      ],
      "metadata": {
        "id": "JGjmQ_qj3niN"
      },
      "execution_count": 96,
      "outputs": []
    },
    {
      "cell_type": "code",
      "source": [
        "# Plot the result\n",
        "\n",
        "plt.plot(x, y)"
      ],
      "metadata": {
        "colab": {
          "base_uri": "https://localhost:8080/",
          "height": 283
        },
        "id": "JlwyUQvp2nER",
        "outputId": "57f113de-0e13-4d97-83b5-35021a03b82c"
      },
      "execution_count": 97,
      "outputs": [
        {
          "output_type": "execute_result",
          "data": {
            "text/plain": [
              "[<matplotlib.lines.Line2D at 0x7f66a2816a90>]"
            ]
          },
          "metadata": {},
          "execution_count": 97
        },
        {
          "output_type": "display_data",
          "data": {
            "text/plain": [
              "<Figure size 432x288 with 1 Axes>"
            ],
            "image/png": "[encoded data removed]"
          },
          "metadata": {
            "needs_background": "light"
          }
        }
      ]
    },
    {
      "cell_type": "markdown",
      "source": [
        "Try it yourself\n",
        "\n",
        "Make a numpy array within [5, 4] and 6 elements"
      ],
      "metadata": {
        "id": "c7qitkTW4IAa"
      }
    },
    {
      "cell_type": "code",
      "source": [
        "arr4 = np.linspace(5,4,num=6)\n",
        "arr4\n"
      ],
      "metadata": {
        "colab": {
          "base_uri": "https://localhost:8080/"
        },
        "id": "ANv3DEsz1pqA",
        "outputId": "3fb1c137-fa64-461b-930a-4c1ce671dc5e"
      },
      "execution_count": 101,
      "outputs": [
        {
          "output_type": "execute_result",
          "data": {
            "text/plain": [
              "array([5. , 4.8, 4.6, 4.4, 4.2, 4. ])"
            ]
          },
          "metadata": {},
          "execution_count": 101
        }
      ]
    },
    {
      "cell_type": "markdown",
      "source": [
        "Iterating 1-D Arrays\n",
        "\n"
      ],
      "metadata": {
        "id": "ap8Uvtda5IOT"
      }
    },
    {
      "cell_type": "code",
      "source": [
        "arr1 = np.array([1, 2, 3])\n",
        "print(arr1)"
      ],
      "metadata": {
        "colab": {
          "base_uri": "https://localhost:8080/"
        },
        "id": "j4mIwcz14KCV",
        "outputId": "90315c79-43ea-4d1e-cb30-45a77bdcdbd1"
      },
      "execution_count": 102,
      "outputs": [
        {
          "output_type": "stream",
          "name": "stdout",
          "text": [
            "[1 2 3]\n"
          ]
        }
      ]
    },
    {
      "cell_type": "code",
      "source": [
        "for x in arr1:\n",
        "  print(x)"
      ],
      "metadata": {
        "colab": {
          "base_uri": "https://localhost:8080/"
        },
        "id": "sw7qQ_1N4KFg",
        "outputId": "89085fae-3124-4383-f22c-fcd80c3fe02b"
      },
      "execution_count": 103,
      "outputs": [
        {
          "output_type": "stream",
          "name": "stdout",
          "text": [
            "1\n",
            "2\n",
            "3\n"
          ]
        }
      ]
    },
    {
      "cell_type": "markdown",
      "source": [
        "Quiz on 1D Numpy Array\n",
        "\n",
        "Implement the following vector subtraction in numpy: u-v"
      ],
      "metadata": {
        "id": "pRYtQX645aPz"
      }
    },
    {
      "cell_type": "code",
      "source": [
        "u = np.array([1, 0])\n",
        "v = np.array([0, 1])\n",
        "u - v"
      ],
      "metadata": {
        "colab": {
          "base_uri": "https://localhost:8080/"
        },
        "id": "36zUArQs4KL1",
        "outputId": "fa6cf599-09d1-4fba-fefe-93dcc94192eb"
      },
      "execution_count": 105,
      "outputs": [
        {
          "output_type": "execute_result",
          "data": {
            "text/plain": [
              "array([ 1, -1])"
            ]
          },
          "metadata": {},
          "execution_count": 105
        }
      ]
    },
    {
      "cell_type": "markdown",
      "source": [
        "Multiply the numpy array z with -2:\n",
        "\n"
      ],
      "metadata": {
        "id": "0a7BmqMG5v7y"
      }
    },
    {
      "cell_type": "code",
      "source": [
        "# Write your code below and press Shift+Enter to execute\n",
        "\n",
        "z = np.array([2, 4])\n",
        "-2*z"
      ],
      "metadata": {
        "colab": {
          "base_uri": "https://localhost:8080/"
        },
        "id": "Vle0Gl4w5WF0",
        "outputId": "71fb0864-5d6b-4ff7-cf4e-0632db7e638e"
      },
      "execution_count": 108,
      "outputs": [
        {
          "output_type": "execute_result",
          "data": {
            "text/plain": [
              "array([-4, -8])"
            ]
          },
          "metadata": {},
          "execution_count": 108
        }
      ]
    },
    {
      "cell_type": "markdown",
      "source": [
        "Consider the list [1, 2, 3, 4, 5] and [1, 0, 1, 0, 1]. Cast both lists to a numpy array then multiply them together:"
      ],
      "metadata": {
        "id": "S_CI2LBf6GEc"
      }
    },
    {
      "cell_type": "code",
      "source": [
        "f=np.array([1, 2, 3, 4, 5])\n",
        "g=np.array([1, 0, 1, 0, 1])\n",
        "f"
      ],
      "metadata": {
        "colab": {
          "base_uri": "https://localhost:8080/"
        },
        "id": "GRL-x01i5WIS",
        "outputId": "f11d7a58-5d59-43f9-9b25-22c85aafe28e"
      },
      "execution_count": 110,
      "outputs": [
        {
          "output_type": "execute_result",
          "data": {
            "text/plain": [
              "array([1, 2, 3, 4, 5])"
            ]
          },
          "metadata": {},
          "execution_count": 110
        }
      ]
    },
    {
      "cell_type": "code",
      "source": [
        "g"
      ],
      "metadata": {
        "colab": {
          "base_uri": "https://localhost:8080/"
        },
        "id": "qdXhAV595WK8",
        "outputId": "096988f8-0d33-4063-b2f0-081c6684730a"
      },
      "execution_count": 111,
      "outputs": [
        {
          "output_type": "execute_result",
          "data": {
            "text/plain": [
              "array([1, 0, 1, 0, 1])"
            ]
          },
          "metadata": {},
          "execution_count": 111
        }
      ]
    },
    {
      "cell_type": "code",
      "source": [
        "f*g"
      ],
      "metadata": {
        "colab": {
          "base_uri": "https://localhost:8080/"
        },
        "id": "cY41vGTB5WOU",
        "outputId": "e55af811-b2be-4846-ddb3-8344e648dc2c"
      },
      "execution_count": 112,
      "outputs": [
        {
          "output_type": "execute_result",
          "data": {
            "text/plain": [
              "array([1, 0, 3, 0, 5])"
            ]
          },
          "metadata": {},
          "execution_count": 112
        }
      ]
    },
    {
      "cell_type": "code",
      "source": [
        "# Import the libraries\n",
        "\n",
        "import time \n",
        "import sys\n",
        "import numpy as np \n",
        "\n",
        "import matplotlib.pyplot as plt\n",
        "%matplotlib inline  \n",
        "\n",
        "def Plotvec2(a,b):\n",
        "    ax = plt.axes()# to generate the full window axes\n",
        "    ax.arrow(0, 0, *a, head_width=0.05, color ='r', head_length=0.1)#Add an arrow to the  a Axes with arrow head width 0.05, color red and arrow head length 0.1\n",
        "    plt.text(*(a + 0.1), 'a')\n",
        "    ax.arrow(0, 0, *b, head_width=0.05, color ='b', head_length=0.1)#Add an arrow to the  b Axes with arrow head width 0.05, color blue and arrow head length 0.1\n",
        "    plt.text(*(b + 0.1), 'b')\n",
        "    plt.ylim(-2, 2)#set the ylim to bottom(-2), top(2)\n",
        "    plt.xlim(-2, 2)#set the xlim to left(-2), right(2)"
      ],
      "metadata": {
        "id": "DC4geSuA5WQ-"
      },
      "execution_count": 113,
      "outputs": []
    },
    {
      "cell_type": "code",
      "source": [],
      "metadata": {
        "id": "cNNSbpRN6vz3"
      },
      "execution_count": null,
      "outputs": []
    },
    {
      "cell_type": "markdown",
      "source": [
        "Convert the list [-1, 1] and [1, 1] to numpy arrays a and b. Then, plot the arrays as vectors using the fuction Plotvec2 and find their dot product:"
      ],
      "metadata": {
        "id": "j4O9IHBAG-9N"
      }
    },
    {
      "cell_type": "code",
      "source": [
        "a=np.array([-1,1])\n",
        "b=np.array([1,1])\n",
        "Plotvec2(a,b)\n"
      ],
      "metadata": {
        "colab": {
          "base_uri": "https://localhost:8080/",
          "height": 269
        },
        "id": "nX5bR_Kk6v3L",
        "outputId": "51675a43-f9fd-4ea4-d351-b6e553696d18"
      },
      "execution_count": 116,
      "outputs": [
        {
          "output_type": "display_data",
          "data": {
            "text/plain": [
              "<Figure size 432x288 with 1 Axes>"
            ],
            "image/png": "[encoded data removed]"
          },
          "metadata": {
            "needs_background": "light"
          }
        }
      ]
    },
    {
      "cell_type": "code",
      "source": [
        "print(\"The dot product is\", np.dot(a,b))"
      ],
      "metadata": {
        "colab": {
          "base_uri": "https://localhost:8080/"
        },
        "id": "9YNqe2qMHBKB",
        "outputId": "f3b43e93-6b07-4803-f63d-7904a6fcc877"
      },
      "execution_count": 118,
      "outputs": [
        {
          "output_type": "stream",
          "name": "stdout",
          "text": [
            "The dot product is 0\n"
          ]
        }
      ]
    },
    {
      "cell_type": "markdown",
      "source": [
        "Convert the list [1, 0] and [0, 1] to numpy arrays a and b. Then, plot the arrays as vectors using the function Plotvec2 and find their dot product:"
      ],
      "metadata": {
        "id": "ebKKR_3SKMbV"
      }
    },
    {
      "cell_type": "code",
      "source": [
        "a= np.array([1,0])\n",
        "b= np.array([0,1])\n",
        "Plotvec2(a,b)\n"
      ],
      "metadata": {
        "colab": {
          "base_uri": "https://localhost:8080/",
          "height": 287
        },
        "id": "tvumXfAbHBMn",
        "outputId": "1fe189f1-e9df-440a-a32d-71188ec5e704"
      },
      "execution_count": 121,
      "outputs": [
        {
          "output_type": "stream",
          "name": "stdout",
          "text": [
            "The dot product is 0\n"
          ]
        },
        {
          "output_type": "display_data",
          "data": {
            "text/plain": [
              "<Figure size 432x288 with 1 Axes>"
            ],
            "image/png": "[encoded data removed]"
          },
          "metadata": {
            "needs_background": "light"
          }
        }
      ]
    },
    {
      "cell_type": "code",
      "source": [
        "print(\"The dot product is\", np.dot(a, b))"
      ],
      "metadata": {
        "colab": {
          "base_uri": "https://localhost:8080/"
        },
        "id": "Uw_nAZASHBP-",
        "outputId": "20736e3a-2160-45d7-d7fe-33489e66e2c5"
      },
      "execution_count": 122,
      "outputs": [
        {
          "output_type": "stream",
          "name": "stdout",
          "text": [
            "The dot product is 0\n"
          ]
        }
      ]
    },
    {
      "cell_type": "markdown",
      "source": [
        "Convert the list [1, 1] and [0, 1] to numpy arrays a and b. Then plot the arrays as vectors using the fuction Plotvec2 and find their dot product:"
      ],
      "metadata": {
        "id": "ziBJq44CKx5K"
      }
    },
    {
      "cell_type": "code",
      "source": [
        "a=np.array([1,1])\n",
        "b=np.array([0,1])\n",
        "Plotvec2(a,b)"
      ],
      "metadata": {
        "colab": {
          "base_uri": "https://localhost:8080/",
          "height": 269
        },
        "id": "UDXY3nnSK0Ns",
        "outputId": "b7c3071f-fde2-467f-9687-f093915d6e7f"
      },
      "execution_count": 123,
      "outputs": [
        {
          "output_type": "display_data",
          "data": {
            "text/plain": [
              "<Figure size 432x288 with 1 Axes>"
            ],
            "image/png": "[encoded data removed]"
          },
          "metadata": {
            "needs_background": "light"
          }
        }
      ]
    },
    {
      "cell_type": "code",
      "source": [
        "np.dot(a,b)"
      ],
      "metadata": {
        "colab": {
          "base_uri": "https://localhost:8080/"
        },
        "id": "Spuf321PK0bh",
        "outputId": "d805727f-f0eb-4f38-e513-3e9045b06113"
      },
      "execution_count": 124,
      "outputs": [
        {
          "output_type": "execute_result",
          "data": {
            "text/plain": [
              "1"
            ]
          },
          "metadata": {},
          "execution_count": 124
        }
      ]
    },
    {
      "cell_type": "markdown",
      "source": [
        "Convert the list [1, 2, 3] and [8, 9, 10] to numpy arrays arr1 and arr2. Then perform Addition , Subtraction , Multiplication , Division and Dot Operation on the arr1 and arr2.\n"
      ],
      "metadata": {
        "id": "TEUYJ6J5LWl4"
      }
    },
    {
      "cell_type": "code",
      "source": [
        "arr1=np.array([1,2,3])\n",
        "arr2=np.array([8,9,10])\n",
        "np.add(arr1,arr2)"
      ],
      "metadata": {
        "colab": {
          "base_uri": "https://localhost:8080/"
        },
        "id": "tcZur35hLQOJ",
        "outputId": "216a0a5d-2e46-45a7-df79-7fcc8c9f533e"
      },
      "execution_count": 138,
      "outputs": [
        {
          "output_type": "execute_result",
          "data": {
            "text/plain": [
              "array([ 9, 11, 13])"
            ]
          },
          "metadata": {},
          "execution_count": 138
        }
      ]
    },
    {
      "cell_type": "code",
      "source": [
        "np.subtract(arr1,arr2)\n"
      ],
      "metadata": {
        "colab": {
          "base_uri": "https://localhost:8080/"
        },
        "id": "Qj-i2iHSLlmA",
        "outputId": "9702211b-03b7-42f8-86a5-69d429ab128e"
      },
      "execution_count": 139,
      "outputs": [
        {
          "output_type": "execute_result",
          "data": {
            "text/plain": [
              "array([-7, -7, -7])"
            ]
          },
          "metadata": {},
          "execution_count": 139
        }
      ]
    },
    {
      "cell_type": "code",
      "source": [
        "np.multiply(arr1,arr2)"
      ],
      "metadata": {
        "colab": {
          "base_uri": "https://localhost:8080/"
        },
        "id": "Rs5Aal41LuNh",
        "outputId": "f6059dfb-2d93-46fd-f584-e46b8408de41"
      },
      "execution_count": 140,
      "outputs": [
        {
          "output_type": "execute_result",
          "data": {
            "text/plain": [
              "array([ 8, 18, 30])"
            ]
          },
          "metadata": {},
          "execution_count": 140
        }
      ]
    },
    {
      "cell_type": "code",
      "source": [
        "np.divide(arr1,arr2)"
      ],
      "metadata": {
        "colab": {
          "base_uri": "https://localhost:8080/"
        },
        "id": "8MwbDtK0LuRk",
        "outputId": "48140761-3b0e-4dde-a812-3ca228f6ad62"
      },
      "execution_count": 141,
      "outputs": [
        {
          "output_type": "execute_result",
          "data": {
            "text/plain": [
              "array([0.125     , 0.22222222, 0.3       ])"
            ]
          },
          "metadata": {},
          "execution_count": 141
        }
      ]
    },
    {
      "cell_type": "code",
      "source": [
        "np.dot(arr1,arr2)"
      ],
      "metadata": {
        "colab": {
          "base_uri": "https://localhost:8080/"
        },
        "id": "UnhbCusVL3N8",
        "outputId": "23a6d141-11ab-49be-ef19-af0cf34b2793"
      },
      "execution_count": 142,
      "outputs": [
        {
          "output_type": "execute_result",
          "data": {
            "text/plain": [
              "56"
            ]
          },
          "metadata": {},
          "execution_count": 142
        }
      ]
    },
    {
      "cell_type": "markdown",
      "source": [
        "Convert the list [1, 2, 3, 4, 5] and [6, 7, 8, 9, 10] to numpy arrays arr1 and arr2. Then find the even and odd numbers from arr1 and arr2."
      ],
      "metadata": {
        "id": "g41LhX2yNFOU"
      }
    },
    {
      "cell_type": "code",
      "source": [
        "arr1=np.array([1, 2, 3, 4, 5])\n",
        "arr2=np.array([6, 7, 8, 9, 10])\n",
        "even_arr1= arr1[1:5:2]\n",
        "even_arr1"
      ],
      "metadata": {
        "colab": {
          "base_uri": "https://localhost:8080/"
        },
        "id": "nxqGSLEXNBBZ",
        "outputId": "5c2796f0-0b3d-44df-836e-fb0dec5f4323"
      },
      "execution_count": 145,
      "outputs": [
        {
          "output_type": "execute_result",
          "data": {
            "text/plain": [
              "array([2, 4])"
            ]
          },
          "metadata": {},
          "execution_count": 145
        }
      ]
    },
    {
      "cell_type": "code",
      "source": [
        "even_arr2= arr2[0:5:2]\n",
        "even_arr2"
      ],
      "metadata": {
        "colab": {
          "base_uri": "https://localhost:8080/"
        },
        "id": "evQH1NLeNgEc",
        "outputId": "7c54c8d3-b52e-4b68-fe4d-dec260b04b28"
      },
      "execution_count": 147,
      "outputs": [
        {
          "output_type": "execute_result",
          "data": {
            "text/plain": [
              "array([ 6,  8, 10])"
            ]
          },
          "metadata": {},
          "execution_count": 147
        }
      ]
    },
    {
      "cell_type": "code",
      "source": [
        "odd_arr1=arr1[0:5:2]\n",
        "odd_arr1"
      ],
      "metadata": {
        "colab": {
          "base_uri": "https://localhost:8080/"
        },
        "id": "wqGtEgGgNwkp",
        "outputId": "8da614fe-893a-43b7-eea7-0fd30ff24d0b"
      },
      "execution_count": 150,
      "outputs": [
        {
          "output_type": "execute_result",
          "data": {
            "text/plain": [
              "array([1, 3, 5])"
            ]
          },
          "metadata": {},
          "execution_count": 150
        }
      ]
    },
    {
      "cell_type": "code",
      "source": [
        "odd_arr2=arr2[1:5:2]\n",
        "odd_arr2"
      ],
      "metadata": {
        "colab": {
          "base_uri": "https://localhost:8080/"
        },
        "id": "yuJ5yvgjN9Va",
        "outputId": "77e6628c-d07e-4ecc-90a3-a42dde3b02be"
      },
      "execution_count": 151,
      "outputs": [
        {
          "output_type": "execute_result",
          "data": {
            "text/plain": [
              "array([7, 9])"
            ]
          },
          "metadata": {},
          "execution_count": 151
        }
      ]
    },
    {
      "cell_type": "code",
      "source": [],
      "metadata": {
        "id": "tGvuxNjDOKLP"
      },
      "execution_count": null,
      "outputs": []
    }
  ]
}